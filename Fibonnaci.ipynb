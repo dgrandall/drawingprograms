{
 "cells": [
  {
   "cell_type": "code",
   "execution_count": 1,
   "id": "869e8e1e",
   "metadata": {},
   "outputs": [
    {
     "name": "stdout",
     "output_type": "stream",
     "text": [
      "Defaulting to user installation because normal site-packages is not writeable\n",
      "Requirement already satisfied: ColabTurtlePlus==2.0 in /home/d/.local/lib/python3.10/site-packages (2.0)\n"
     ]
    }
   ],
   "source": [
    "# https://pypi.org/project/ColabTurtlePlus/\n",
    "!pip install ColabTurtlePlus==2.0"
   ]
  },
  {
   "cell_type": "code",
   "execution_count": 2,
   "id": "40e3ec50",
   "metadata": {},
   "outputs": [],
   "source": [
    "from ColabTurtlePlus.Turtle import *"
   ]
  },
  {
   "cell_type": "code",
   "execution_count": 3,
   "id": "8cd52198",
   "metadata": {},
   "outputs": [
    {
     "data": {
      "text/html": [
       "\n",
       "      <svg width=\"800\" height=\"600\">  \n",
       "        <rect width=\"100%\" height=\"100%\" style=\"fill:black;stroke:;stroke-width:1\"/>\n",
       "        \n",
       "        \n",
       "        <path fill-rule=\"evenodd\" fill-opacity=\"1\" d=\"M 400.0 300.0  L 401.652 301.127  L 403.563 300.537  L 404.294 298.675  L 403.294 296.943  L 401.316 296.645  L 399.85 298.005  L 399.999 299.999 \" stroke-linecap=\"round\" style=\"stroke:gold;stroke-width:2\" fill=\"none\" /><path fill-rule=\"evenodd\" fill-opacity=\"1\" d=\"M 399.999 299.999  L 401.486 301.013  L 403.206 300.482  L 403.864 298.806  L 402.964 297.247  L 401.184 296.979  L 399.865 298.203  L 400.0 299.998 \" stroke-linecap=\"round\" style=\"stroke:gold;stroke-width:2\" fill=\"none\" /><path fill-rule=\"evenodd\" fill-opacity=\"1\" d=\"M 400.0 299.998  L 401.322 300.899  L 402.851 300.427  L 403.436 298.938  L 402.636 297.552  L 401.054 297.314  L 399.881 298.402  L 400.001 299.998 \" stroke-linecap=\"round\" style=\"stroke:gold;stroke-width:2\" fill=\"none\" /><path fill-rule=\"evenodd\" fill-opacity=\"1\" d=\"M 400.001 299.998  L 401.158 300.787  L 402.496 300.374  L 403.007 299.071  L 402.307 297.859  L 400.923 297.65  L 399.897 298.602  L 400.002 299.998 \" stroke-linecap=\"round\" style=\"stroke:gold;stroke-width:2\" fill=\"none\" /><path fill-rule=\"evenodd\" fill-opacity=\"1\" d=\"M 400.002 299.998  L 399.778 302.99  L 401.977 305.031  L 404.943 304.584  L 406.443 301.986  L 405.347 299.193  L 402.48 298.309  L 400.001 299.999 \" stroke-linecap=\"round\" style=\"stroke:yellow;stroke-width:2\" fill=\"none\" /><path fill-rule=\"evenodd\" fill-opacity=\"1\" d=\"M 400.001 299.999  L 399.799 302.691  L 401.778 304.527  L 404.448 304.125  L 405.798 301.787  L 404.812 299.274  L 402.232 298.478  L 400.001 299.999 \" stroke-linecap=\"round\" style=\"stroke:yellow;stroke-width:2\" fill=\"none\" /><path fill-rule=\"evenodd\" fill-opacity=\"1\" d=\"M 400.001 299.999  L 399.822 302.392  L 401.581 304.024  L 403.954 303.666  L 405.154 301.588  L 404.277 299.354  L 401.984 298.647  L 400.001 299.999 \" stroke-linecap=\"round\" style=\"stroke:yellow;stroke-width:2\" fill=\"none\" /><path fill-rule=\"evenodd\" fill-opacity=\"1\" d=\"M 400.001 299.999  L 399.844 302.093  L 401.383 303.521  L 403.46 303.208  L 404.51 301.389  L 403.743 299.434  L 401.736 298.815  L 400.001 299.998 \" stroke-linecap=\"round\" style=\"stroke:yellow;stroke-width:2\" fill=\"none\" /><path fill-rule=\"evenodd\" fill-opacity=\"1\" d=\"M 400.001 299.998  L 395.496 302.167  L 394.383 307.042  L 397.5 310.951  L 402.5 310.951  L 405.617 307.042  L 404.504 302.167  L 399.999 299.998 \" stroke-linecap=\"round\" style=\"stroke:greenyellow;stroke-width:2\" fill=\"none\" /><path fill-rule=\"evenodd\" fill-opacity=\"1\" d=\"M 399.999 299.998  L 395.945 301.95  L 394.944 306.337  L 397.75 309.855  L 402.25 309.855  L 405.056 306.337  L 404.055 301.95  L 400.001 299.998 \" stroke-linecap=\"round\" style=\"stroke:greenyellow;stroke-width:2\" fill=\"none\" /><path fill-rule=\"evenodd\" fill-opacity=\"1\" d=\"M 400.001 299.998  L 396.397 301.734  L 395.507 305.634  L 398.001 308.761  L 402.001 308.761  L 404.495 305.634  L 403.605 301.734  L 400.001 299.998 \" stroke-linecap=\"round\" style=\"stroke:greenyellow;stroke-width:2\" fill=\"none\" /><path fill-rule=\"evenodd\" fill-opacity=\"1\" d=\"M 400.001 299.998  L 396.848 301.517  L 396.069 304.929  L 398.251 307.665  L 401.751 307.665  L 403.933 304.929  L 403.154 301.517  L 400.001 299.998 \" stroke-linecap=\"round\" style=\"stroke:greenyellow;stroke-width:2\" fill=\"none\" /><path fill-rule=\"evenodd\" fill-opacity=\"1\" d=\"M 400.001 299.998  L 393.391 295.491  L 385.746 297.849  L 382.823 305.296  L 386.823 312.224  L 394.734 313.416  L 400.598 307.975  L 400.0 299.997 \" stroke-linecap=\"round\" style=\"stroke:green;stroke-width:2\" fill=\"none\" /><path fill-rule=\"evenodd\" fill-opacity=\"1\" d=\"M 400.0 299.997  L 394.051 295.941  L 387.171 298.063  L 384.541 304.765  L 388.141 311.0  L 395.261 312.073  L 400.539 307.176  L 400.001 299.996 \" stroke-linecap=\"round\" style=\"stroke:green;stroke-width:2\" fill=\"none\" /><path fill-rule=\"evenodd\" fill-opacity=\"1\" d=\"M 400.001 299.996  L 394.713 296.391  L 388.597 298.277  L 386.259 304.235  L 389.459 309.778  L 395.788 310.732  L 400.48 306.379  L 400.002 299.997 \" stroke-linecap=\"round\" style=\"stroke:green;stroke-width:2\" fill=\"none\" /><path fill-rule=\"evenodd\" fill-opacity=\"1\" d=\"M 400.002 299.997  L 395.375 296.842  L 390.024 298.493  L 387.978 303.706  L 390.778 308.556  L 396.315 309.391  L 400.42 305.582  L 400.002 299.998 \" stroke-linecap=\"round\" style=\"stroke:green;stroke-width:2\" fill=\"none\" /><path fill-rule=\"evenodd\" fill-opacity=\"1\" d=\"M 400.002 299.998  L 400.973 287.034  L 391.443 278.192  L 378.588 280.13  L 372.088 291.388  L 376.837 303.489  L 389.259 307.321  L 400.0 299.998 \" stroke-linecap=\"round\" style=\"stroke:teal;stroke-width:2\" fill=\"none\" /><path fill-rule=\"evenodd\" fill-opacity=\"1\" d=\"M 400.0 299.998  L 400.874 288.331  L 392.297 280.373  L 380.728 282.117  L 374.878 292.249  L 379.152 303.14  L 390.332 306.589  L 399.999 299.998 \" stroke-linecap=\"round\" style=\"stroke:teal;stroke-width:2\" fill=\"none\" /><path fill-rule=\"evenodd\" fill-opacity=\"1\" d=\"M 399.999 299.998  L 400.776 289.627  L 393.152 282.553  L 382.868 284.103  L 377.668 293.11  L 381.468 302.791  L 391.406 305.856  L 399.999 299.997 \" stroke-linecap=\"round\" style=\"stroke:teal;stroke-width:2\" fill=\"none\" /><path fill-rule=\"evenodd\" fill-opacity=\"1\" d=\"M 399.999 299.997  L 400.679 290.922  L 394.008 284.732  L 385.01 286.088  L 380.46 293.969  L 383.785 302.44  L 392.481 305.122  L 400.0 299.996 \" stroke-linecap=\"round\" style=\"stroke:teal;stroke-width:2\" fill=\"none\" /><path fill-rule=\"evenodd\" fill-opacity=\"1\" d=\"M 400.0 299.996  L 418.92 290.884  L 423.593 270.411  L 410.5 253.993  L 389.5 253.993  L 376.407 270.411  L 381.08 290.884  L 400.0 299.996 \" stroke-linecap=\"round\" style=\"stroke:blue;stroke-width:2\" fill=\"none\" /><path fill-rule=\"evenodd\" fill-opacity=\"1\" d=\"M 400.0 299.996  L 417.028 291.796  L 421.234 273.37  L 409.45 258.593  L 390.55 258.593  L 378.766 273.37  L 382.972 291.796  L 400.0 299.996 \" stroke-linecap=\"round\" style=\"stroke:blue;stroke-width:2\" fill=\"none\" /><path fill-rule=\"evenodd\" fill-opacity=\"1\" d=\"M 400.0 299.996  L 415.136 292.707  L 418.874 276.328  L 408.399 263.193  L 391.599 263.193  L 381.124 276.328  L 384.862 292.707  L 399.998 299.996 \" stroke-linecap=\"round\" style=\"stroke:blue;stroke-width:2\" fill=\"none\" /><path fill-rule=\"evenodd\" fill-opacity=\"1\" d=\"M 399.998 299.996  L 413.242 293.618  L 416.513 279.287  L 407.348 267.794  L 392.648 267.794  L 383.483 279.287  L 386.754 293.618  L 399.998 299.996 \" stroke-linecap=\"round\" style=\"stroke:blue;stroke-width:2\" fill=\"none\" /><path fill-rule=\"evenodd\" fill-opacity=\"1\" d=\"M 399.998 299.996  L 428.09 319.149  L 460.579 309.127  L 473.001 277.477  L 456.001 248.032  L 422.381 242.965  L 397.457 266.091  L 399.998 299.996 \" stroke-linecap=\"round\" style=\"stroke:blueviolet;stroke-width:2\" fill=\"none\" /><path fill-rule=\"evenodd\" fill-opacity=\"1\" d=\"M 399.998 299.996  L 425.281 317.234  L 454.522 308.214  L 465.701 279.729  L 450.401 253.229  L 420.143 248.668  L 397.712 269.481  L 399.999 299.995 \" stroke-linecap=\"round\" style=\"stroke:blueviolet;stroke-width:2\" fill=\"none\" /><path fill-rule=\"evenodd\" fill-opacity=\"1\" d=\"M 399.999 299.995  L 422.473 315.317  L 448.465 307.3  L 458.402 281.98  L 444.802 258.424  L 417.906 254.37  L 397.967 272.871  L 400.0 299.995 \" stroke-linecap=\"round\" style=\"stroke:blueviolet;stroke-width:2\" fill=\"none\" /><path fill-rule=\"evenodd\" fill-opacity=\"1\" d=\"M 400.0 299.995  L 419.664 313.402  L 442.407 306.387  L 451.102 284.232  L 439.202 263.621  L 415.668 260.074  L 398.221 276.262  L 400.0 299.995 \" stroke-linecap=\"round\" style=\"stroke:blueviolet;stroke-width:2\" fill=\"none\" /><path fill-rule=\"evenodd\" fill-opacity=\"1\" d=\"M 400.0 299.995  L 395.89 354.841  L 436.208 392.251  L 490.594 384.054  L 518.094 336.423  L 498.0 285.225  L 445.443 269.013  L 400.0 299.996 \" stroke-linecap=\"round\" style=\"stroke:purple;stroke-width:2\" fill=\"none\" /><path fill-rule=\"evenodd\" fill-opacity=\"1\" d=\"M 400.0 299.996  L 396.301 349.358  L 432.587 383.027  L 481.534 375.649  L 506.284 332.781  L 488.2 286.703  L 440.899 272.113  L 400.0 299.997 \" stroke-linecap=\"round\" style=\"stroke:purple;stroke-width:2\" fill=\"none\" /><path fill-rule=\"evenodd\" fill-opacity=\"1\" d=\"M 400.0 299.997  L 396.712 343.874  L 428.966 373.802  L 472.475 367.244  L 494.475 329.139  L 478.4 288.181  L 436.355 275.212  L 400.0 299.998 \" stroke-linecap=\"round\" style=\"stroke:purple;stroke-width:2\" fill=\"none\" /><path fill-rule=\"evenodd\" fill-opacity=\"1\" d=\"M 400.0 299.998  L 397.123 338.39  L 425.345 364.577  L 463.415 358.839  L 482.665 325.497  L 468.599 289.658  L 431.809 278.31  L 399.999 299.998 \" stroke-linecap=\"round\" style=\"stroke:purple;stroke-width:2\" fill=\"none\" /><path fill-rule=\"evenodd\" fill-opacity=\"1\" d=\"M 399.999 299.998  L 319.813 338.614  L 300.009 425.383  L 355.5 494.966  L 444.5 494.966  L 499.991 425.383  L 480.187 338.614  L 400.001 299.998 \" stroke-linecap=\"round\" style=\"stroke:red;stroke-width:2\" fill=\"none\" /><path fill-rule=\"evenodd\" fill-opacity=\"1\" d=\"M 400.001 299.998  L 327.833 334.752  L 310.009 412.844  L 359.951 475.469  L 440.051 475.469  L 489.993 412.844  L 472.169 334.752  L 400.001 299.998 \" stroke-linecap=\"round\" style=\"stroke:red;stroke-width:2\" fill=\"none\" /><path fill-rule=\"evenodd\" fill-opacity=\"1\" d=\"M 400.001 299.998  L 335.852 330.891  L 320.009 400.306  L 364.401 455.972  L 435.601 455.972  L 479.993 400.306  L 464.15 330.891  L 400.001 299.998 \" stroke-linecap=\"round\" style=\"stroke:red;stroke-width:2\" fill=\"none\" /><path fill-rule=\"evenodd\" fill-opacity=\"1\" d=\"M 400.001 299.998  L 343.871 327.029  L 330.008 387.767  L 368.851 436.475  L 431.151 436.475  L 469.994 387.767  L 456.131 327.029  L 400.001 299.998 \" stroke-linecap=\"round\" style=\"stroke:red;stroke-width:2\" fill=\"none\" /><path fill-rule=\"evenodd\" fill-opacity=\"1\" d=\"M 400.001 299.998  L 281.023 218.88  L 143.421 261.325  L 90.812 395.371  L 162.812 520.079  L 305.204 541.541  L 410.763 443.596  L 400.002 299.999 \" stroke-linecap=\"round\" style=\"stroke:orangered;stroke-width:2\" fill=\"none\" /><path fill-rule=\"evenodd\" fill-opacity=\"1\" d=\"M 400.002 299.999  L 292.921 226.993  L 169.079 265.193  L 121.731 385.834  L 186.531 498.071  L 314.683 517.387  L 409.687 429.237  L 400.002 299.999 \" stroke-linecap=\"round\" style=\"stroke:orangered;stroke-width:2\" fill=\"none\" /><path fill-rule=\"evenodd\" fill-opacity=\"1\" d=\"M 400.002 299.999  L 304.819 235.105  L 194.737 269.061  L 152.65 376.298  L 210.25 476.064  L 324.163 493.234  L 408.611 414.878  L 400.002 300.0 \" stroke-linecap=\"round\" style=\"stroke:orangered;stroke-width:2\" fill=\"none\" /><path fill-rule=\"evenodd\" fill-opacity=\"1\" d=\"M 400.002 300.0  L 316.717 243.217  L 220.395 272.928  L 183.569 366.76  L 233.969 454.055  L 333.643 469.078  L 407.535 400.517  L 400.002 299.999 \" stroke-linecap=\"round\" style=\"stroke:orangered;stroke-width:2\" fill=\"none\" />\n",
       "        \n",
       "        \n",
       "        <g id=\"classic\" visibility=\"visible\" transform=\"rotate(149.99999999999733,400.002,299.999) translate(400.002, 299.999)\">\n",
       "<polygon points=\"-5,-4.5 0,-2.5 5,-4.5 0,4.5\" transform=\"skewX(0) scale(1,1)\" style=\"stroke:orangered;fill:black;stroke-width:1\" />\n",
       "</g>\n",
       "      </svg>\n",
       "    "
      ],
      "text/plain": [
       "<IPython.core.display.HTML object>"
      ]
     },
     "metadata": {},
     "output_type": "display_data"
    },
    {
     "name": "stdout",
     "output_type": "stream",
     "text": [
      "<svg width=\"800\" height=\"600\" viewBox=\"0 0 800 600\" xmlns=\"http://www.w3.org/2000/svg\">\n",
      "<rect width=\"100%\" height=\"100%\" style=\"fill:white;stroke:;stroke-width:1\" />\n",
      "</svg>\n"
     ]
    }
   ],
   "source": [
    "#nterms = int(input(\"How many terms?\"))\n",
    "initializeTurtle()\n",
    "showSVG()\n",
    "clear() # reset the canvas \n",
    "speed(10) # from 1 (slowest) to 13. 10 works pretty well  \n",
    "pencolor('black') # set the pencolor to black so it matches the canvas. When we reset to the center it will not show up on the drawing \n",
    "jumpto(0,0) # set the starting position to 0,0 think of it like a graphing axis \n",
    "colors = ['Red', 'OrangeRed', 'Orange', 'Gold', 'Yellow','GreenYellow' ,'Green' ,'Teal','Blue','BlueViolet','Purple']\n",
    "bgcolor('black') # set the background color to black \n",
    "\n",
    "def fibin(nterms):\n",
    "    fib_list = []\n",
    "    # the first 2 terms \n",
    "\n",
    "    n1, n2 = 0,1 \n",
    "\n",
    "    count = 0 \n",
    "    # check if the number of terms is valid \n",
    "    if nterms <= 0: \n",
    "      print(\"Please enter only a positive integer\")\n",
    "    # if there is only one term, return n1 \n",
    "    # if there is only one term, return n1\n",
    "    elif nterms == 1:\n",
    "      print(\"Fibonacci sequence upto\",nterms,\":\")\n",
    "      #print(n1)\n",
    "    # generate fibonacci sequence \n",
    "    else: \n",
    "      #print(\"Fibonacci sequence:\")\n",
    "      while count < nterms: \n",
    "        pencolor(colors[count%11]) # note that 0/6 = 0 with a remainder of 0. 1/6= 0 with a remainder of 1 also known as 1/6 = .166666 \n",
    "        #fib_list.append(n1)\n",
    "        if n1 > 1:\n",
    "          right(60)\n",
    "          width(2)    \n",
    "          #circle(n1)\n",
    "          #change the color of the each octagon \n",
    "          regularPolygon(7,n1)\n",
    "          regularPolygon(7,n1*.9)\n",
    "          regularPolygon(7,n1*.8)\n",
    "          regularPolygon(7,n1*.7)\n",
    "        nth = n1 + n2 # add 0 and 1 for first iteration \n",
    "        n1 = n2 #assign n1 the value currently in n2 \n",
    "        n2 = nth # assign n2 the value in nth \n",
    "        count +=1 \n",
    "    #return fib_list[-1]\n",
    "\n",
    "fibin(13)\n"
   ]
  },
  {
   "cell_type": "code",
   "execution_count": null,
   "id": "a9fc6d15",
   "metadata": {},
   "outputs": [],
   "source": []
  }
 ],
 "metadata": {
  "kernelspec": {
   "display_name": "Python 3 (ipykernel)",
   "language": "python",
   "name": "python3"
  },
  "language_info": {
   "codemirror_mode": {
    "name": "ipython",
    "version": 3
   },
   "file_extension": ".py",
   "mimetype": "text/x-python",
   "name": "python",
   "nbconvert_exporter": "python",
   "pygments_lexer": "ipython3",
   "version": "3.10.6"
  }
 },
 "nbformat": 4,
 "nbformat_minor": 5
}
