{
 "cells": [
  {
   "cell_type": "code",
   "execution_count": 7,
   "id": "869e8e1e",
   "metadata": {},
   "outputs": [
    {
     "name": "stdout",
     "output_type": "stream",
     "text": [
      "Defaulting to user installation because normal site-packages is not writeable\n",
      "Collecting ColabTurtlePlus==2.0.1\n",
      "  Using cached ColabTurtlePlus-2.0.1-py3-none-any.whl (31 kB)\n",
      "Installing collected packages: ColabTurtlePlus\n",
      "  Attempting uninstall: ColabTurtlePlus\n",
      "    Found existing installation: ColabTurtlePlus 1.5\n",
      "    Uninstalling ColabTurtlePlus-1.5:\n",
      "      Successfully uninstalled ColabTurtlePlus-1.5\n",
      "Successfully installed ColabTurtlePlus-2.0.1\n"
     ]
    }
   ],
   "source": [
    "# https://pypi.org/project/ColabTurtlePlus/\n",
    "!pip install ColabTurtlePlus==2.0.1 "
   ]
  },
  {
   "cell_type": "code",
   "execution_count": 8,
   "id": "40e3ec50",
   "metadata": {},
   "outputs": [],
   "source": [
    "from ColabTurtlePlus.Turtle import *"
   ]
  },
  {
   "cell_type": "code",
   "execution_count": 9,
   "id": "8cd52198",
   "metadata": {},
   "outputs": [
    {
     "data": {
      "text/html": [
       "\n",
       "      <svg width=\"800\" height=\"600\">  \n",
       "        <rect width=\"100%\" height=\"100%\" style=\"fill:white;stroke:;stroke-width:1\"/>\n",
       "        \n",
       "        <line x1=\"400.0\" y1=\"300.0\" x2=\"400.0\" y2=\"300.0\" stroke-linecap=\"round\" style=\"stroke:black;stroke-width:1\" /><path d=\"M 400.0 300.0 A 2 2 0 0 0 403.464 298.0\" stroke-linecap=\"round\" fill=\"transparent\" fill-opacity=\"0\" style=\"stroke:black;stroke-width:1\"/><path d=\"M 403.464 298.0 A 2 2 0 0 0 400.0 300.0\" stroke-linecap=\"round\" fill=\"transparent\" fill-opacity=\"0\" style=\"stroke:black;stroke-width:1\"/><path d=\"M 400.0 300.0 A 3 3 0 0 0 405.196 303.0\" stroke-linecap=\"round\" fill=\"transparent\" fill-opacity=\"0\" style=\"stroke:black;stroke-width:1\"/><path d=\"M 405.196 303.0 A 3 3 0 0 0 400.0 300.0\" stroke-linecap=\"round\" fill=\"transparent\" fill-opacity=\"0\" style=\"stroke:black;stroke-width:1\"/><path d=\"M 400.0 300.0 A 5 5 0 0 0 400.0 310.0\" stroke-linecap=\"round\" fill=\"transparent\" fill-opacity=\"0\" style=\"stroke:black;stroke-width:1\"/><path d=\"M 400.0 310.0 A 5 5 0 0 0 400.0 300.0\" stroke-linecap=\"round\" fill=\"transparent\" fill-opacity=\"0\" style=\"stroke:black;stroke-width:1\"/><path d=\"M 400.0 300.0 A 8 8 0 0 0 386.144 308.0\" stroke-linecap=\"round\" fill=\"transparent\" fill-opacity=\"0\" style=\"stroke:black;stroke-width:1\"/><path d=\"M 386.144 308.0 A 8 8 0 0 0 400.0 300.0\" stroke-linecap=\"round\" fill=\"transparent\" fill-opacity=\"0\" style=\"stroke:black;stroke-width:1\"/><path d=\"M 400.0 300.0 A 13 13 0 0 0 377.483 287.0\" stroke-linecap=\"round\" fill=\"transparent\" fill-opacity=\"0\" style=\"stroke:black;stroke-width:1\"/><path d=\"M 377.483 287.0 A 13 13 0 0 0 400.0 300.0\" stroke-linecap=\"round\" fill=\"transparent\" fill-opacity=\"0\" style=\"stroke:black;stroke-width:1\"/><path d=\"M 400.0 300.0 A 21 21 0 0 0 400.0 258.0\" stroke-linecap=\"round\" fill=\"transparent\" fill-opacity=\"0\" style=\"stroke:black;stroke-width:1\"/><path d=\"M 400.0 258.0 A 21 21 0 0 0 400.0 300.0\" stroke-linecap=\"round\" fill=\"transparent\" fill-opacity=\"0\" style=\"stroke:black;stroke-width:1\"/><path d=\"M 400.0 300.0 A 34 34 0 0 0 405.403 307.042\" stroke-linecap=\"round\" fill=\"transparent\" fill-opacity=\"0\" style=\"stroke:black;stroke-width:1\"/><path d=\"M 405.403 307.042 A 34 34 0 0 0 412.445 312.445\" stroke-linecap=\"round\" fill=\"transparent\" fill-opacity=\"0\" style=\"stroke:black;stroke-width:1\"/><path d=\"M 412.445 312.445 A 34 34 0 0 0 420.645 315.842\" stroke-linecap=\"round\" fill=\"transparent\" fill-opacity=\"0\" style=\"stroke:black;stroke-width:1\"/><path d=\"M 420.645 315.842 A 34 34 0 0 0 429.445 317.001\" stroke-linecap=\"round\" fill=\"transparent\" fill-opacity=\"0\" style=\"stroke:black;stroke-width:1\"/><path d=\"M 429.445 317.001 A 34 34 0 0 0 438.245 315.842\" stroke-linecap=\"round\" fill=\"transparent\" fill-opacity=\"0\" style=\"stroke:black;stroke-width:1\"/><path d=\"M 438.245 315.842 A 34 34 0 0 0 446.445 312.445\" stroke-linecap=\"round\" fill=\"transparent\" fill-opacity=\"0\" style=\"stroke:black;stroke-width:1\"/><path d=\"M 446.445 312.445 A 34 34 0 0 0 453.487 307.042\" stroke-linecap=\"round\" fill=\"transparent\" fill-opacity=\"0\" style=\"stroke:black;stroke-width:1\"/><path d=\"M 453.487 307.042 A 34 34 0 0 0 458.89 300.0\" stroke-linecap=\"round\" fill=\"transparent\" fill-opacity=\"0\" style=\"stroke:black;stroke-width:1\"/><path d=\"M 458.89 300.0 A 34 34 0 0 0 462.287 291.8\" stroke-linecap=\"round\" fill=\"transparent\" fill-opacity=\"0\" style=\"stroke:black;stroke-width:1\"/><path d=\"M 462.287 291.8 A 34 34 0 0 0 463.446 283.0\" stroke-linecap=\"round\" fill=\"transparent\" fill-opacity=\"0\" style=\"stroke:black;stroke-width:1\"/><path d=\"M 463.446 283.0 A 34 34 0 0 0 462.287 274.2\" stroke-linecap=\"round\" fill=\"transparent\" fill-opacity=\"0\" style=\"stroke:black;stroke-width:1\"/><path d=\"M 462.287 274.2 A 34 34 0 0 0 458.89 266.0\" stroke-linecap=\"round\" fill=\"transparent\" fill-opacity=\"0\" style=\"stroke:black;stroke-width:1\"/><path d=\"M 458.89 266.0 A 34 34 0 0 0 453.487 258.958\" stroke-linecap=\"round\" fill=\"transparent\" fill-opacity=\"0\" style=\"stroke:black;stroke-width:1\"/><path d=\"M 453.487 258.958 A 34 34 0 0 0 446.445 253.555\" stroke-linecap=\"round\" fill=\"transparent\" fill-opacity=\"0\" style=\"stroke:black;stroke-width:1\"/><path d=\"M 446.445 253.555 A 34 34 0 0 0 438.245 250.158\" stroke-linecap=\"round\" fill=\"transparent\" fill-opacity=\"0\" style=\"stroke:black;stroke-width:1\"/><path d=\"M 438.245 250.158 A 34 34 0 0 0 429.445 248.999\" stroke-linecap=\"round\" fill=\"transparent\" fill-opacity=\"0\" style=\"stroke:black;stroke-width:1\"/><path d=\"M 429.445 248.999 A 34 34 0 0 0 420.645 250.158\" stroke-linecap=\"round\" fill=\"transparent\" fill-opacity=\"0\" style=\"stroke:black;stroke-width:1\"/><path d=\"M 420.645 250.158 A 34 34 0 0 0 412.445 253.555\" stroke-linecap=\"round\" fill=\"transparent\" fill-opacity=\"0\" style=\"stroke:black;stroke-width:1\"/><path d=\"M 412.445 253.555 A 34 34 0 0 0 405.403 258.958\" stroke-linecap=\"round\" fill=\"transparent\" fill-opacity=\"0\" style=\"stroke:black;stroke-width:1\"/><path d=\"M 405.403 258.958 A 34 34 0 0 0 400.0 266.0\" stroke-linecap=\"round\" fill=\"transparent\" fill-opacity=\"0\" style=\"stroke:black;stroke-width:1\"/><path d=\"M 400.0 266.0 A 34 34 0 0 0 396.603 274.2\" stroke-linecap=\"round\" fill=\"transparent\" fill-opacity=\"0\" style=\"stroke:black;stroke-width:1\"/><path d=\"M 396.603 274.2 A 34 34 0 0 0 395.444 283.0\" stroke-linecap=\"round\" fill=\"transparent\" fill-opacity=\"0\" style=\"stroke:black;stroke-width:1\"/><path d=\"M 395.444 283.0 A 34 34 0 0 0 396.603 291.8\" stroke-linecap=\"round\" fill=\"transparent\" fill-opacity=\"0\" style=\"stroke:black;stroke-width:1\"/><path d=\"M 396.603 291.8 A 34 34 0 0 0 400.0 300.0\" stroke-linecap=\"round\" fill=\"transparent\" fill-opacity=\"0\" style=\"stroke:black;stroke-width:1\"/>\n",
       "        \n",
       "        \n",
       "        <g id=\"classic\" visibility=\"visible\" transform=\"rotate(-30.0,400.0,300.0) translate(400.0, 300.0)\">\n",
       "<polygon points=\"-5,-4.5 0,-2.5 5,-4.5 0,4.5\" transform=\"skewX(0) scale(1,1)\" style=\"stroke:black;fill:black;stroke-width:1\" />\n",
       "</g>\n",
       "      </svg>\n",
       "    "
      ],
      "text/plain": [
       "<IPython.core.display.HTML object>"
      ]
     },
     "metadata": {},
     "output_type": "display_data"
    },
    {
     "data": {
      "text/plain": [
       "34"
      ]
     },
     "execution_count": 9,
     "metadata": {},
     "output_type": "execute_result"
    }
   ],
   "source": [
    "#nterms = int(input(\"How many terms?\"))\n",
    "initializeTurtle()\n",
    "clear() # reset the canvas \n",
    "speed(13) # 13 is the fastest 1 is the slowest \n",
    "pencolor('black') # set the pencolor to black so it matches the canvas. When we reset to the center it will not show up on the drawing \n",
    "setpos(0,0) # set the starting position to 0,0 think of it like a graphing axis \n",
    "\n",
    "\n",
    "def fibin(nterms):\n",
    "    fib_list = []\n",
    "    # the first 2 terms \n",
    "\n",
    "    n1, n2 = 0,1 \n",
    "\n",
    "    count = 0 \n",
    "\n",
    "    # check if the number of terms is valid \n",
    "    if nterms <= 0: \n",
    "      print(\"Please enter only a positive integer\")\n",
    "    # if there is only one term, return n1 \n",
    "    # if there is only one term, return n1\n",
    "    elif nterms == 1:\n",
    "      print(\"Fibonacci sequence upto\",nterms,\":\")\n",
    "      #print(n1)\n",
    "    # generate fibonacci sequence \n",
    "    else: \n",
    "      #print(\"Fibonacci sequence:\")\n",
    "      while count < nterms: \n",
    "        fib_list.append(n1)\n",
    "        if n1 > 1:\n",
    "          right(60)\n",
    "          circle(n1)\n",
    "        nth = n1 + n2 # add 0 and 1 for first iteration \n",
    "        n1 = n2 #assign n1 the value currently in n2 \n",
    "        n2 = nth # assign n2 the value in nth \n",
    "        count +=1 \n",
    "    return fib_list[-1]\n",
    "\n",
    "fibin(10)\n"
   ]
  },
  {
   "cell_type": "code",
   "execution_count": null,
   "id": "51444f0b",
   "metadata": {},
   "outputs": [],
   "source": []
  }
 ],
 "metadata": {
  "kernelspec": {
   "display_name": "Python 3 (ipykernel)",
   "language": "python",
   "name": "python3"
  },
  "language_info": {
   "codemirror_mode": {
    "name": "ipython",
    "version": 3
   },
   "file_extension": ".py",
   "mimetype": "text/x-python",
   "name": "python",
   "nbconvert_exporter": "python",
   "pygments_lexer": "ipython3",
   "version": "3.10.6"
  }
 },
 "nbformat": 4,
 "nbformat_minor": 5
}
