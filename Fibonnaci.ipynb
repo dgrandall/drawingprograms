{
 "cells": [
  {
   "cell_type": "code",
   "execution_count": 1,
   "id": "869e8e1e",
   "metadata": {},
   "outputs": [
    {
     "name": "stdout",
     "output_type": "stream",
     "text": [
      "Defaulting to user installation because normal site-packages is not writeable\n",
      "Requirement already satisfied: ColabTurtlePlus==2.0 in /home/d/.local/lib/python3.10/site-packages (2.0)\n"
     ]
    }
   ],
   "source": [
    "# https://pypi.org/project/ColabTurtlePlus/\n",
    "!pip install ColabTurtlePlus==2.0"
   ]
  },
  {
   "cell_type": "code",
   "execution_count": 2,
   "id": "40e3ec50",
   "metadata": {},
   "outputs": [],
   "source": [
    "from ColabTurtlePlus.Turtle import *"
   ]
  },
  {
   "cell_type": "code",
   "execution_count": 3,
   "id": "8cd52198",
   "metadata": {},
   "outputs": [
    {
     "data": {
      "text/html": [
       "\n",
       "      <svg width=\"800\" height=\"600\">  \n",
       "        <rect width=\"100%\" height=\"100%\" style=\"fill:black;stroke:;stroke-width:1\"/>\n",
       "        \n",
       "        \n",
       "        <path fill-rule=\"evenodd\" fill-opacity=\"1\" d=\"M 400.0 300.0  L 401.652 301.127  L 403.563 300.537  L 404.294 298.675  L 403.294 296.943  L 401.316 296.645  L 399.85 298.005  L 399.999 299.999 \" stroke-linecap=\"round\" style=\"stroke:gold;stroke-width:2\" fill=\"none\" /><path fill-rule=\"evenodd\" fill-opacity=\"1\" d=\"M 399.999 299.999  L 399.775 302.991  L 401.974 305.032  L 404.94 304.585  L 406.44 301.987  L 405.344 299.194  L 402.477 298.31  L 399.998 300.0 \" stroke-linecap=\"round\" style=\"stroke:yellow;stroke-width:2\" fill=\"none\" /><path fill-rule=\"evenodd\" fill-opacity=\"1\" d=\"M 399.998 300.0  L 395.493 302.169  L 394.38 307.044  L 397.497 310.953  L 402.497 310.953  L 405.614 307.044  L 404.501 302.169  L 399.996 300.0 \" stroke-linecap=\"round\" style=\"stroke:greenyellow;stroke-width:2\" fill=\"none\" /><path fill-rule=\"evenodd\" fill-opacity=\"1\" d=\"M 399.996 300.0  L 393.386 295.493  L 385.741 297.851  L 382.818 305.298  L 386.818 312.226  L 394.729 313.418  L 400.593 307.977  L 399.995 299.999 \" stroke-linecap=\"round\" style=\"stroke:green;stroke-width:2\" fill=\"none\" /><path fill-rule=\"evenodd\" fill-opacity=\"1\" d=\"M 399.995 299.999  L 400.966 287.035  L 391.436 278.193  L 378.581 280.131  L 372.081 291.389  L 376.83 303.49  L 389.252 307.322  L 399.993 299.999 \" stroke-linecap=\"round\" style=\"stroke:teal;stroke-width:2\" fill=\"none\" /><path fill-rule=\"evenodd\" fill-opacity=\"1\" d=\"M 399.993 299.999  L 418.913 290.887  L 423.586 270.414  L 410.493 253.996  L 389.493 253.996  L 376.4 270.414  L 381.073 290.887  L 399.993 299.999 \" stroke-linecap=\"round\" style=\"stroke:blue;stroke-width:2\" fill=\"none\" /><path fill-rule=\"evenodd\" fill-opacity=\"1\" d=\"M 399.993 299.999  L 428.085 319.152  L 460.574 309.13  L 472.996 277.48  L 455.996 248.035  L 422.376 242.968  L 397.452 266.094  L 399.993 299.999 \" stroke-linecap=\"round\" style=\"stroke:blueviolet;stroke-width:2\" fill=\"none\" /><path fill-rule=\"evenodd\" fill-opacity=\"1\" d=\"M 399.993 299.999  L 395.883 354.845  L 436.201 392.255  L 490.587 384.058  L 518.087 336.427  L 497.993 285.229  L 445.436 269.017  L 399.993 300.0 \" stroke-linecap=\"round\" style=\"stroke:purple;stroke-width:2\" fill=\"none\" /><path fill-rule=\"evenodd\" fill-opacity=\"1\" d=\"M 399.993 300.0  L 319.807 338.616  L 300.003 425.385  L 355.494 494.968  L 444.494 494.968  L 499.985 425.385  L 480.181 338.616  L 399.995 300.0 \" stroke-linecap=\"round\" style=\"stroke:red;stroke-width:2\" fill=\"none\" /><path fill-rule=\"evenodd\" fill-opacity=\"1\" d=\"M 399.995 300.0  L 281.017 218.882  L 143.415 261.327  L 90.806 395.373  L 162.806 520.081  L 305.198 541.543  L 410.757 443.598  L 399.996 300.001 \" stroke-linecap=\"round\" style=\"stroke:orangered;stroke-width:2\" fill=\"none\" />\n",
       "        \n",
       "        \n",
       "        <g id=\"classic\" visibility=\"visible\" transform=\"rotate(149.99999999999932,399.996,300.001) translate(399.996, 300.001)\">\n",
       "<polygon points=\"-5,-4.5 0,-2.5 5,-4.5 0,4.5\" transform=\"skewX(0) scale(1,1)\" style=\"stroke:orangered;fill:black;stroke-width:1\" />\n",
       "</g>\n",
       "      </svg>\n",
       "    "
      ],
      "text/plain": [
       "<IPython.core.display.HTML object>"
      ]
     },
     "metadata": {},
     "output_type": "display_data"
    },
    {
     "name": "stdout",
     "output_type": "stream",
     "text": [
      "<svg width=\"800\" height=\"600\" viewBox=\"0 0 800 600\" xmlns=\"http://www.w3.org/2000/svg\">\n",
      "<rect width=\"100%\" height=\"100%\" style=\"fill:white;stroke:;stroke-width:1\" />\n",
      "</svg>\n"
     ]
    }
   ],
   "source": [
    "#nterms = int(input(\"How many terms?\"))\n",
    "initializeTurtle()\n",
    "showSVG()\n",
    "clear() # reset the canvas \n",
    "speed(10) # from 1 (slowest) to 13. 10 works pretty well  \n",
    "pencolor('black') # set the pencolor to black so it matches the canvas. When we reset to the center it will not show up on the drawing \n",
    "jumpto(0,0) # set the starting position to 0,0 think of it like a graphing axis \n",
    "colors = ['Red', 'OrangeRed', 'Orange', 'Gold', 'Yellow','GreenYellow' ,'Green' ,'Teal','Blue','BlueViolet','Purple']\n",
    "bgcolor('black') # set the background color to black \n",
    "\n",
    "def fibin(nterms):\n",
    "    fib_list = []\n",
    "    # the first 2 terms \n",
    "\n",
    "    n1, n2 = 0,1 \n",
    "\n",
    "    count = 0 \n",
    "    # check if the number of terms is valid \n",
    "    if nterms <= 0: \n",
    "      print(\"Please enter only a positive integer\")\n",
    "    # if there is only one term, return n1 \n",
    "    # if there is only one term, return n1\n",
    "    elif nterms == 1:\n",
    "      print(\"Fibonacci sequence upto\",nterms,\":\")\n",
    "      #print(n1)\n",
    "    # generate fibonacci sequence \n",
    "    else: \n",
    "      #print(\"Fibonacci sequence:\")\n",
    "      while count < nterms: \n",
    "        pencolor(colors[count%11]) # note that 0/6 = 0 with a remainder of 0. 1/6= 0 with a remainder of 1 also known as 1/6 = .166666 \n",
    "        #fib_list.append(n1)\n",
    "        if n1 > 1:\n",
    "          right(60)\n",
    "          width(2)    \n",
    "          #circle(n1)\n",
    "          #change the color of the each octagon \n",
    "          regularPolygon(7,n1)  \n",
    "        nth = n1 + n2 # add 0 and 1 for first iteration \n",
    "        n1 = n2 #assign n1 the value currently in n2 \n",
    "        n2 = nth # assign n2 the value in nth \n",
    "        count +=1 \n",
    "    #return fib_list[-1]\n",
    "\n",
    "fibin(13)\n"
   ]
  },
  {
   "cell_type": "code",
   "execution_count": null,
   "id": "a9fc6d15",
   "metadata": {},
   "outputs": [],
   "source": []
  }
 ],
 "metadata": {
  "kernelspec": {
   "display_name": "Python 3 (ipykernel)",
   "language": "python",
   "name": "python3"
  },
  "language_info": {
   "codemirror_mode": {
    "name": "ipython",
    "version": 3
   },
   "file_extension": ".py",
   "mimetype": "text/x-python",
   "name": "python",
   "nbconvert_exporter": "python",
   "pygments_lexer": "ipython3",
   "version": "3.10.6"
  }
 },
 "nbformat": 4,
 "nbformat_minor": 5
}
